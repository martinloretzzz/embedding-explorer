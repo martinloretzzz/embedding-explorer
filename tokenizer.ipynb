{
 "cells": [
  {
   "cell_type": "code",
   "execution_count": 318,
   "metadata": {},
   "outputs": [],
   "source": [
    "from tokenizers import Tokenizer\n",
    "from datasets import load_dataset\n",
    "import json\n",
    "from tqdm import tqdm"
   ]
  },
  {
   "cell_type": "code",
   "execution_count": 319,
   "metadata": {},
   "outputs": [],
   "source": [
    "def pack_token(id, space, upper):\n",
    "    return (id << 2) + (space << 1) + (upper << 0) \n",
    "\n",
    "def unpack_token(token):\n",
    "    id = token >> 2\n",
    "    space = bool((token >> 1) & 0x01)\n",
    "    upper = bool((token >> 0) & 0x01)\n",
    "    return (id, space, upper)\n",
    "\n",
    "def upper_first(text):\n",
    "    return text[0].upper() + (text[1:] if len(text) > 1 else \"\")\n",
    "\n",
    "def lower_first(text):\n",
    "    return text[0].lower() + (text[1:] if len(text) > 1 else \"\")"
   ]
  },
  {
   "cell_type": "code",
   "execution_count": 320,
   "metadata": {},
   "outputs": [
    {
     "name": "stdout",
     "output_type": "stream",
     "text": [
      "<|endoftext|>\n",
      "108046\n"
     ]
    }
   ],
   "source": [
    "with open('tokenizers/tokenizer-space-50000-full-vocab.json', 'r', encoding='utf-8') as f:\n",
    "    data = json.load(f)\n",
    "\n",
    "def expand_vocab(vocab, max_vocab_size):\n",
    "    updated_vocab = {}\n",
    "    for i, (token, id) in enumerate(vocab.items()):\n",
    "        if i >= max_vocab_size:\n",
    "            return updated_vocab\n",
    "        updated_vocab[f\"{upper_first(token)}\"] = pack_token(id, space=False, upper=True)\n",
    "        updated_vocab[f\"Ġ{upper_first(token)}\"] = pack_token(id, space=True, upper=True)\n",
    "        updated_vocab[f\"{token}\"] = pack_token(id, space=False, upper=False)\n",
    "        updated_vocab[f\"Ġ{token}\"] = pack_token(id, space=True, upper=False)\n",
    "    return updated_vocab\n",
    "\n",
    "vocab_size = 27500 + 257\n",
    "vocab = expand_vocab(data[\"model\"][\"vocab\"], max_vocab_size=vocab_size)\n",
    "vocab_decode = {v:k for k,v in vocab.items()}\n",
    "\n",
    "\n",
    "sorted_keys = sorted(vocab.keys(), key=lambda x: (len(x), x), reverse=True)\n",
    "vocab_encode = {key: vocab[key] for key in sorted_keys}\n",
    "\n",
    "print(vocab_decode[0])\n",
    "print(len(vocab))\n"
   ]
  },
  {
   "cell_type": "code",
   "execution_count": 321,
   "metadata": {},
   "outputs": [
    {
     "name": "stdout",
     "output_type": "stream",
     "text": [
      "Token ID: 1110, Token: Ġis\n"
     ]
    }
   ],
   "source": [
    "class TrieNode:\n",
    "    def __init__(self):\n",
    "        self.children = {}\n",
    "        self.token_id = None\n",
    "        self.token = None\n",
    "\n",
    "class Trie:\n",
    "    def __init__(self):\n",
    "        self.root = TrieNode()\n",
    "\n",
    "    def insert(self, token, token_id):\n",
    "        node = self.root\n",
    "        for char in token:\n",
    "            if char not in node.children:\n",
    "                node.children[char] = TrieNode()\n",
    "            node = node.children[char]\n",
    "        node.token_id = token_id\n",
    "        node.token = token\n",
    "\n",
    "    def search(self, text, start_pos):\n",
    "        match_token, match_token_id = None, None\n",
    "        pos = start_pos\n",
    "        node = self.root\n",
    "        while True:\n",
    "            char = text[pos]\n",
    "            if char not in node.children:\n",
    "                break\n",
    "            node = node.children[char]\n",
    "            if node.token:\n",
    "                match_token = node.token\n",
    "                match_token_id = node.token_id\n",
    "            pos += 1\n",
    "            if pos >= len(text):\n",
    "                break\n",
    "        return match_token_id, match_token\n",
    "\n",
    "\n",
    "# TODO handle space seperatly to cut tree in half\n",
    "trie = Trie()\n",
    "for token, token_id in vocab.items():\n",
    "    trie.insert(token, token_id)\n",
    "\n",
    "text = \"thereĠisĠaĠcat\"\n",
    "token_id, token = trie.search(text, 5)\n",
    "print(f\"Token ID: {token_id}, Token: {token}\")\n"
   ]
  },
  {
   "cell_type": "code",
   "execution_count": 322,
   "metadata": {},
   "outputs": [],
   "source": [
    "dataset = load_dataset(\"wikitext\", \"wikitext-103-raw-v1\", split=\"test+validation\") # split=\"train+test+validation\"\n",
    "\n",
    "def batch_iterator(batch_size=1000):\n",
    "    for i in range(0, len(dataset), batch_size):\n",
    "        yield dataset[i : i + batch_size][\"text\"]"
   ]
  },
  {
   "cell_type": "code",
   "execution_count": 323,
   "metadata": {},
   "outputs": [
    {
     "name": "stdout",
     "output_type": "stream",
     "text": [
      "256\n",
      "dict_values(['!', '\"', '#', '$', '%', '&', \"'\", '(', ')', '*', '+', ',', '-', '.', '/', '0', '1', '2', '3', '4', '5', '6', '7', '8', '9', ':', ';', '<', '=', '>', '?', '@', 'A', 'B', 'C', 'D', 'E', 'F', 'G', 'H', 'I', 'J', 'K', 'L', 'M', 'N', 'O', 'P', 'Q', 'R', 'S', 'T', 'U', 'V', 'W', 'X', 'Y', 'Z', '[', '\\\\', ']', '^', '_', '`', 'a', 'b', 'c', 'd', 'e', 'f', 'g', 'h', 'i', 'j', 'k', 'l', 'm', 'n', 'o', 'p', 'q', 'r', 's', 't', 'u', 'v', 'w', 'x', 'y', 'z', '{', '|', '}', '~', '¡', '¢', '£', '¤', '¥', '¦', '§', '¨', '©', 'ª', '«', '¬', '®', '¯', '°', '±', '²', '³', '´', 'µ', '¶', '·', '¸', '¹', 'º', '»', '¼', '½', '¾', '¿', 'À', 'Á', 'Â', 'Ã', 'Ä', 'Å', 'Æ', 'Ç', 'È', 'É', 'Ê', 'Ë', 'Ì', 'Í', 'Î', 'Ï', 'Ð', 'Ñ', 'Ò', 'Ó', 'Ô', 'Õ', 'Ö', '×', 'Ø', 'Ù', 'Ú', 'Û', 'Ü', 'Ý', 'Þ', 'ß', 'à', 'á', 'â', 'ã', 'ä', 'å', 'æ', 'ç', 'è', 'é', 'ê', 'ë', 'ì', 'í', 'î', 'ï', 'ð', 'ñ', 'ò', 'ó', 'ô', 'õ', 'ö', '÷', 'ø', 'ù', 'ú', 'û', 'ü', 'ý', 'þ', 'ÿ', 'Ā', 'ā', 'Ă', 'ă', 'Ą', 'ą', 'Ć', 'ć', 'Ĉ', 'ĉ', 'Ċ', 'ċ', 'Č', 'č', 'Ď', 'ď', 'Đ', 'đ', 'Ē', 'ē', 'Ĕ', 'ĕ', 'Ė', 'ė', 'Ę', 'ę', 'Ě', 'ě', 'Ĝ', 'ĝ', 'Ğ', 'ğ', 'Ġ', 'ġ', 'Ģ', 'ģ', 'Ĥ', 'ĥ', 'Ħ', 'ħ', 'Ĩ', 'ĩ', 'Ī', 'ī', 'Ĭ', 'ĭ', 'Į', 'į', 'İ', 'ı', 'Ĳ', 'ĳ', 'Ĵ', 'ĵ', 'Ķ', 'ķ', 'ĸ', 'Ĺ', 'ĺ', 'Ļ', 'ļ', 'Ľ', 'ľ', 'Ŀ', 'ŀ', 'Ł', 'ł', 'Ń'])\n"
     ]
    }
   ],
   "source": [
    "\n",
    "# From https://github.com/openai/gpt-2/blob/master/src/encoder.py\n",
    "def bytes_to_unicode():\n",
    "    bs = list(range(ord(\"!\"), ord(\"~\")+1))+list(range(ord(\"¡\"), ord(\"¬\")+1))+list(range(ord(\"®\"), ord(\"ÿ\")+1))\n",
    "    cs = bs[:]\n",
    "    n = 0\n",
    "    for b in range(2**8):\n",
    "        if b not in bs:\n",
    "            bs.append(b)\n",
    "            cs.append(2**8+n)\n",
    "            n += 1\n",
    "    cs = [chr(n) for n in cs]\n",
    "    return dict(zip(bs, cs))\n",
    "\n",
    "byte_encoder = bytes_to_unicode()\n",
    "byte_decoder = {v:k for k, v in byte_encoder.items()}\n",
    "print(len(byte_encoder))\n",
    "print(byte_encoder.values())"
   ]
  },
  {
   "cell_type": "code",
   "execution_count": 324,
   "metadata": {},
   "outputs": [
    {
     "name": "stdout",
     "output_type": "stream",
     "text": [
      "The quick brown Fox jumps 1234 OVER the lazy Dog.\n",
      "[1037, 8598, 7638, 12427, 70294, 58618, 80, 92459, 89749, 1038, 90350, 12179, 56]\n",
      "['The', 'Ġquick', 'Ġbrown', 'ĠFox', 'Ġjumps', 'Ġ123', '4', 'ĠOV', 'ER', 'Ġthe', 'Ġlazy', 'ĠDog', '.']\n",
      "The quick brown Fox jumps 1234 OVER the lazy Dog.\n"
     ]
    }
   ],
   "source": [
    "def encode(text):\n",
    "    text = ''.join(byte_encoder[b] for b in text.encode('utf-8'))\n",
    "    pos = 0\n",
    "    ids, tokens = [], []\n",
    "    while pos < len(text):\n",
    "        id, token = trie.search(text, pos)\n",
    "        if id is None or token is None:\n",
    "            print(f'Error encoding \"{text[pos-2:pos+16]}\"')\n",
    "            id, token = 0, \"?\"\n",
    "        ids.append(id)\n",
    "        tokens.append(token)\n",
    "        pos += len(token)\n",
    "        if pos >= len(text):\n",
    "            break\n",
    "    return ids, tokens\n",
    "\n",
    "def decode(ids):\n",
    "    out = \"\"\n",
    "    for id in ids:\n",
    "        if id in vocab_decode:\n",
    "            out += vocab_decode[id]\n",
    "        else:\n",
    "            print(f\"Error decoding {id}\")\n",
    "    return bytearray([byte_decoder[c] for c in out]).decode('utf-8', errors=\"replace\")\n",
    "\n",
    "\n",
    "text = \"The quick brown Fox jumps 1234 OVER the lazy Dog.\"\n",
    "ids, tokens = encode(text)\n",
    "decoded = decode(ids)\n",
    "\n",
    "print(text)\n",
    "print(ids)\n",
    "print(tokens)\n",
    "print(decoded)"
   ]
  },
  {
   "cell_type": "code",
   "execution_count": 325,
   "metadata": {},
   "outputs": [
    {
     "name": "stdout",
     "output_type": "stream",
     "text": [
      "52901\n",
      "True\n"
     ]
    }
   ],
   "source": [
    "with open('tokenizers/taylorswift.txt', 'r') as file:\n",
    "    content = file.read()\n",
    "\n",
    "ids, tokens = encode(content)\n",
    "decoded = decode(ids)\n",
    "token_count = len(ids)\n",
    "\n",
    "print(token_count)\n",
    "print(content == decoded)\n"
   ]
  },
  {
   "cell_type": "code",
   "execution_count": 326,
   "metadata": {},
   "outputs": [
    {
     "name": "stdout",
     "output_type": "stream",
     "text": [
      "Space: 52901 GPT2: 56758 Ratio: 0.9320448218753303\n"
     ]
    }
   ],
   "source": [
    "tokenizer_gpt = Tokenizer.from_file(\"tokenizers/tokenizer-gpt2-downgrade.json\")\n",
    "output_gpt = tokenizer_gpt.encode(content)\n",
    "gpt_token_count = len(output_gpt.ids)\n",
    "\n",
    "print(\"Space:\", token_count, \"GPT2:\", gpt_token_count, \"Ratio:\", token_count / gpt_token_count)"
   ]
  },
  {
   "cell_type": "code",
   "execution_count": 327,
   "metadata": {},
   "outputs": [
    {
     "name": "stderr",
     "output_type": "stream",
     "text": [
      "9it [00:02,  3.37it/s]"
     ]
    },
    {
     "name": "stdout",
     "output_type": "stream",
     "text": [
      "Token count 505616 507954 0.9953972210082015\n"
     ]
    },
    {
     "name": "stderr",
     "output_type": "stream",
     "text": [
      "\n"
     ]
    }
   ],
   "source": [
    "token_count, token_count_gpt = 0, 0\n",
    "ids = []\n",
    "for batch in tqdm(batch_iterator()):\n",
    "    text = \" \".join(batch)\n",
    "\n",
    "    output = tokenizer_gpt.encode(text)\n",
    "    token_count_gpt += len(output.ids)\n",
    "\n",
    "    tokids, tokens = encode(text)\n",
    "    ids.extend(tokids)\n",
    "    token_count += len(tokids)\n",
    "\n",
    "# 30000: 1.003, 32000: 0.9997 35000: 0.9949, 37500: 0.991\n",
    "print(\"Token count\", token_count, token_count_gpt, token_count / token_count_gpt)"
   ]
  },
  {
   "cell_type": "code",
   "execution_count": 332,
   "metadata": {},
   "outputs": [
    {
     "name": "stdout",
     "output_type": "stream",
     "text": [
      "0.7314932911586144 19601\n"
     ]
    },
    {
     "data": {
      "image/png": "[encoded data removed]",
      "text/plain": [
       "<Figure size 432x288 with 1 Axes>"
      ]
     },
     "metadata": {
      "needs_background": "light"
     },
     "output_type": "display_data"
    }
   ],
   "source": [
    "import matplotlib.pyplot as plt\n",
    "import pandas as pd\n",
    "\n",
    "df = pd.DataFrame(ids, columns=[\"id\"])\n",
    "# print(df)\n",
    "df['id'] = df['id'] // 4\n",
    "df = df['id'].value_counts().rename_axis('id').reset_index(name='counts')\n",
    "# print(df)\n",
    "\n",
    "print(len(df[df[\"counts\"] <= 10]) / len(df), len(df))\n",
    "\n",
    "plt.plot(range(len(df)), df[\"counts\"])\n",
    "plt.yscale(\"log\")\n",
    "plt.show()"
   ]
  },
  {
   "cell_type": "code",
   "execution_count": 330,
   "metadata": {},
   "outputs": [],
   "source": [
    "with open('tokenizers/wikitext-val.txt', 'w', encoding='utf-8') as f:\n",
    "    f.write(\"\".join(byte_encoder.values()))\n",
    "    f.write(\"\\n\".join(dataset[\"text\"]))"
   ]
  },
  {
   "cell_type": "code",
   "execution_count": 331,
   "metadata": {},
   "outputs": [],
   "source": [
    "# Downgrade huggingface tokenizer config, config is created from main branch of tokenizers\n",
    "\n",
    "with open('tokenizers/tokenizer-gpt2.json', 'r', encoding='utf-8') as f:\n",
    "    data = json.load(f)\n",
    "\n",
    "data[\"model\"][\"merges\"] = list(map(lambda merge: f\"{merge[0]} {merge[1]}\", data[\"model\"][\"merges\"]))\n",
    "\n",
    "with open('tokenizers/tokenizer-gpt2-downgrade.json', 'w', encoding='utf-8') as f:\n",
    "    json.dump(data, f, ensure_ascii=False, indent=4)"
   ]
  }
 ],
 "metadata": {
  "kernelspec": {
   "display_name": "Python 3",
   "language": "python",
   "name": "python3"
  },
  "language_info": {
   "codemirror_mode": {
    "name": "ipython",
    "version": 3
   },
   "file_extension": ".py",
   "mimetype": "text/x-python",
   "name": "python",
   "nbconvert_exporter": "python",
   "pygments_lexer": "ipython3",
   "version": "3.10.5"
  }
 },
 "nbformat": 4,
 "nbformat_minor": 2
}
