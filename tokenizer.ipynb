{
 "cells": [
  {
   "cell_type": "code",
   "execution_count": 1,
   "metadata": {},
   "outputs": [],
   "source": [
    "from tokenizer import SpaceTokenizer\n",
    "from tokenizers import Tokenizer\n",
    "from datasets import load_dataset\n",
    "import json\n",
    "import time\n",
    "from tqdm import tqdm\n",
    "import matplotlib.pyplot as plt\n",
    "import pandas as pd"
   ]
  },
  {
   "cell_type": "code",
   "execution_count": 2,
   "metadata": {},
   "outputs": [],
   "source": [
    "# TODO also handle s, es, ed, ing\n",
    "# TODO remove scaffolding tokens 10%@50k 10%@25k?"
   ]
  },
  {
   "cell_type": "code",
   "execution_count": 3,
   "metadata": {},
   "outputs": [
    {
     "name": "stdout",
     "output_type": "stream",
     "text": [
      "25257 50257\n",
      "The quick brown Fox jumps 1234 OVER the lazy Dog.\n",
      "[1037, 8598, 7638, 12427, 70294, 58618, 80, 92459, 89749, 1038, 90350, 12179, 56]\n",
      "['The', 'Ġquick', 'Ġbrown', 'ĠFox', 'Ġjumps', 'Ġ123', '4', 'ĠOV', 'ER', 'Ġthe', 'Ġlazy', 'ĠDog', '.']\n",
      "The quick brown Fox jumps 1234 OVER the lazy Dog.\n"
     ]
    }
   ],
   "source": [
    "with open('tokenizers/tokenizer-space.json', 'r', encoding='utf-8') as f: tokenizer_config = json.load(f)\n",
    "\n",
    "vocab_size = 25000 + 257\n",
    "tokenizer = SpaceTokenizer(tokenizer_config[\"model\"][\"vocab\"], vocab_size)\n",
    "\n",
    "print(len(tokenizer.vocab_decode)//4, len(tokenizer_config[\"model\"][\"vocab\"]))\n",
    "\n",
    "with open('tokenizers/space-vocab-sorted.json', 'r', encoding='utf-8') as f: tokenizer_config = json.load(f)\n",
    "vocab_size = 23000 + 257\n",
    "tokenizer = SpaceTokenizer(tokenizer_config, vocab_size)\n",
    "\n",
    "text = \"The quick brown Fox jumps 1234 OVER the lazy Dog.\"\n",
    "ids, tokens = tokenizer.encode(text, return_token_tuple=True)\n",
    "decoded = tokenizer.decode(ids)\n",
    "\n",
    "print(text)\n",
    "print(ids)\n",
    "print(tokens)\n",
    "print(decoded)"
   ]
  },
  {
   "cell_type": "code",
   "execution_count": 4,
   "metadata": {},
   "outputs": [
    {
     "name": "stdout",
     "output_type": "stream",
     "text": [
      "Decode time: 0.10043619999851217\n",
      "53219\n",
      "True\n"
     ]
    }
   ],
   "source": [
    "with open('tokenizers/taylorswift.txt', 'r') as file:\n",
    "    content = file.read()\n",
    "\n",
    "t0 = time.perf_counter()\n",
    "ids, tokens = tokenizer.encode(content, return_token_tuple=True)\n",
    "print(\"Decode time:\", time.perf_counter() - t0)\n",
    "\n",
    "decoded = tokenizer.decode(ids)\n",
    "token_count = len(ids)\n",
    "\n",
    "print(token_count)\n",
    "print(content == decoded)"
   ]
  },
  {
   "cell_type": "code",
   "execution_count": 5,
   "metadata": {},
   "outputs": [
    {
     "name": "stdout",
     "output_type": "stream",
     "text": [
      "Decode time: 0.12846199999876262\n",
      "Space: 53219 GPT2: 56758 Ratio: 0.9376475562916241\n"
     ]
    }
   ],
   "source": [
    "tokenizer_gpt = Tokenizer.from_file(\"tokenizers/tokenizer-gpt2-downgrade.json\")\n",
    "\n",
    "t0 = time.perf_counter()\n",
    "output_gpt = tokenizer_gpt.encode(content)\n",
    "print(\"Decode time:\", time.perf_counter() - t0)\n",
    "gpt_token_count = len(output_gpt.ids)\n",
    "\n",
    "print(\"Space:\", token_count, \"GPT2:\", gpt_token_count, \"Ratio:\", token_count / gpt_token_count)"
   ]
  },
  {
   "cell_type": "code",
   "execution_count": 6,
   "metadata": {},
   "outputs": [],
   "source": [
    "dataset = load_dataset(\"wikitext\", \"wikitext-103-raw-v1\", split=\"train+test+validation\") # split=\"train+test+validation\"\n",
    "\n",
    "def batch_iterator(batch_size=1000):\n",
    "    for i in range(0, len(dataset), batch_size):\n",
    "        yield dataset[i : i + batch_size][\"text\"]"
   ]
  },
  {
   "cell_type": "code",
   "execution_count": 7,
   "metadata": {},
   "outputs": [
    {
     "name": "stderr",
     "output_type": "stream",
     "text": [
      "1810it [10:54,  2.77it/s]                              "
     ]
    },
    {
     "name": "stdout",
     "output_type": "stream",
     "text": [
      "Token count 113918614 113996585 0.9993160233703492\n"
     ]
    },
    {
     "name": "stderr",
     "output_type": "stream",
     "text": [
      "\n"
     ]
    }
   ],
   "source": [
    "token_count, token_count_gpt = 0, 0\n",
    "ids = []\n",
    "for batch in tqdm(batch_iterator(), total=len(dataset) / 1000):\n",
    "    text = \" \".join(batch)\n",
    "\n",
    "    output = tokenizer_gpt.encode(text)\n",
    "    token_count_gpt += len(output.ids)\n",
    "\n",
    "    token_ids, tokens = tokenizer.encode(text, return_token_tuple=True)\n",
    "    ids.extend(token_ids)\n",
    "    token_count += len(tokens)\n",
    "\n",
    "# 30000: 1.003, 32000: 0.9997 35000: 0.9949, 37500: 0.991\n",
    "# 25k: 0.9999\n",
    "# After scaffold-removal-5%: 23.5k: 0.9982, 23k: 0.9993, 22.5k: 1.00075\n",
    "print(\"Token count\", token_count, token_count_gpt, token_count / token_count_gpt)"
   ]
  },
  {
   "cell_type": "code",
   "execution_count": 8,
   "metadata": {},
   "outputs": [],
   "source": [
    "# Downgrade huggingface tokenizer config, config is created from main branch of tokenizers\n",
    "\n",
    "with open('tokenizers/tokenizer-gpt2.json', 'r', encoding='utf-8') as f:\n",
    "    data = json.load(f)\n",
    "\n",
    "data[\"model\"][\"merges\"] = list(map(lambda merge: f\"{merge[0]} {merge[1]}\", data[\"model\"][\"merges\"]))\n",
    "\n",
    "with open('tokenizers/tokenizer-gpt2-downgrade.json', 'w', encoding='utf-8') as f:\n",
    "    json.dump(data, f, ensure_ascii=False, indent=4)"
   ]
  }
 ],
 "metadata": {
  "kernelspec": {
   "display_name": "Python 3",
   "language": "python",
   "name": "python3"
  },
  "language_info": {
   "codemirror_mode": {
    "name": "ipython",
    "version": 3
   },
   "file_extension": ".py",
   "mimetype": "text/x-python",
   "name": "python",
   "nbconvert_exporter": "python",
   "pygments_lexer": "ipython3",
   "version": "3.10.5"
  }
 },
 "nbformat": 4,
 "nbformat_minor": 2
}
