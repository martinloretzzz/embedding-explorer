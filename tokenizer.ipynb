{
 "cells": [
  {
   "cell_type": "code",
   "execution_count": 1,
   "metadata": {},
   "outputs": [],
   "source": [
    "from tokenizers import Tokenizer\n",
    "from datasets import load_dataset\n",
    "import json"
   ]
  },
  {
   "cell_type": "code",
   "execution_count": 2,
   "metadata": {},
   "outputs": [],
   "source": [
    "def pack_token(id, space, upper):\n",
    "    return (id << 2) + (space << 1) + (upper << 0) \n",
    "\n",
    "def unpack_token(token):\n",
    "    id = token >> 2\n",
    "    space = bool((token >> 1) & 0x01)\n",
    "    upper = bool((token >> 0) & 0x01)\n",
    "    return (id, space, upper)\n",
    "\n",
    "def upper_first(text):\n",
    "    return text[0].upper() + (text[1:] if len(text) > 1 else \"\")\n",
    "\n",
    "def lower_first(text):\n",
    "    return text[0].lower() + (text[1:] if len(text) > 1 else \"\")"
   ]
  },
  {
   "cell_type": "code",
   "execution_count": 335,
   "metadata": {},
   "outputs": [],
   "source": [
    "# Downgrade huggingface tokenizer config, config is created from main branch of tokenizers\n",
    "\n",
    "with open('tokenizers/tokenizer-space.json', 'r', encoding='utf-8') as f:\n",
    "    data = json.load(f)\n",
    "\n",
    "model = data[\"model\"]\n",
    "if \"ignore_merges\" in model:\n",
    "    del model[\"ignore_merges\"]\n",
    "\n",
    "data[\"normalizer\"] = None\n",
    "\n",
    "vocab = model[\"vocab\"]\n",
    "updated_vocab = {}\n",
    "for token, id in vocab.items():\n",
    "    updated_vocab[f\"{upper_first(token)}\"] = pack_token(id, space=False, upper=True)\n",
    "    updated_vocab[f\"Ġ{upper_first(token)}\"] = pack_token(id, space=True, upper=True)\n",
    "    updated_vocab[f\"{token}\"] = pack_token(id, space=False, upper=False)\n",
    "    updated_vocab[f\"Ġ{token}\"] = pack_token(id, space=True, upper=False)\n",
    "\n",
    "model[\"vocab\"] = updated_vocab\n",
    "\n",
    "updated_merges = []\n",
    "upper_merges = []\n",
    "space_merges = []\n",
    "for merge in model[\"merges\"]:\n",
    "    # updated_merges.append(merge[0] + \" \" + merge[1])\n",
    "\n",
    "    updated_merges.append(f\"{merge[0]} {merge[1]}\")\n",
    "\n",
    "    updated_merges.append(f\"{upper_first(merge[0])} {merge[1]}\")\n",
    "\n",
    "    space_merges.append(f\"Ġ {upper_first(merge[0])}{merge[1]}\")\n",
    "    space_merges.append(f\"Ġ {merge[0]}{merge[1]}\")\n",
    "\n",
    "model[\"merges\"] = updated_merges # + upper_merges + space_merges\n",
    "\n",
    "with open('tokenizers/tokenizer-space-downgrade.json', 'w', encoding='utf-8') as f:\n",
    "    json.dump(data, f, ensure_ascii=False, indent=4)\n"
   ]
  },
  {
   "cell_type": "code",
   "execution_count": 3,
   "metadata": {},
   "outputs": [
    {
     "name": "stdout",
     "output_type": "stream",
     "text": [
      "The quick brown fox jumps over the Lazy Dog.\n",
      "['Ġ', 'The', 'Ġ', 'quick', 'Ġ', 'brown', 'Ġ', 'fox', 'Ġ', 'jumps', 'Ġ', 'over', 'Ġ', 'the', 'Ġ', 'Lazy', 'Ġ', 'Dog', '.']\n",
      "[684, 833, 684, 8392, 684, 7432, 684, 12220, 684, 70088, 684, 1824, 684, 832, 684, 90145, 684, 11973, 56]\n",
      " The quick brown fox jumps over the Lazy Dog.\n",
      "19\n",
      "False\n"
     ]
    }
   ],
   "source": [
    "tokenizer = Tokenizer.from_file(\"tokenizers/tokenizer-space-downgrade.json\")\n",
    "\n",
    "text = \"The quick brown fox jumps over the Lazy Dog.\"\n",
    "output = tokenizer.encode(text)\n",
    "decodeed = tokenizer.decode(output.ids)\n",
    "\n",
    "print(text)\n",
    "print(output.tokens)\n",
    "print(output.ids)\n",
    "print(decodeed)\n",
    "print(len(output.ids))\n",
    "print(text == decodeed)"
   ]
  },
  {
   "cell_type": "code",
   "execution_count": 310,
   "metadata": {},
   "outputs": [
    {
     "name": "stdout",
     "output_type": "stream",
     "text": [
      "['ĠThe', 'Ġquick', 'Ġbrown', 'Ġfox', 'Ġjumps', 'Ġover', 'Ġthe', 'Ġlazy', 'Ġdog', '.']\n",
      "[276, 2402, 4866, 13854, 19761, 551, 210, 30933, 4738, 14]\n",
      "10\n"
     ]
    }
   ],
   "source": [
    "tokenizer = Tokenizer.from_file(\"tokenizers/tokenizer-gpt2-downgrade.json\")\n",
    "\n",
    "output = tokenizer.encode(\"The quick brown fox jumps over the lazy dog.\")\n",
    "\n",
    "print(output.tokens)\n",
    "print(output.ids)\n",
    "print(len(output.ids))"
   ]
  }
 ],
 "metadata": {
  "kernelspec": {
   "display_name": "Python 3",
   "language": "python",
   "name": "python3"
  },
  "language_info": {
   "codemirror_mode": {
    "name": "ipython",
    "version": 3
   },
   "file_extension": ".py",
   "mimetype": "text/x-python",
   "name": "python",
   "nbconvert_exporter": "python",
   "pygments_lexer": "ipython3",
   "version": "3.10.5"
  }
 },
 "nbformat": 4,
 "nbformat_minor": 2
}
