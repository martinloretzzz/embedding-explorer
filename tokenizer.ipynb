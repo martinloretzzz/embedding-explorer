{
 "cells": [
  {
   "cell_type": "code",
   "execution_count": 3,
   "metadata": {},
   "outputs": [],
   "source": [
    "from tokenizer import SpaceTokenizer\n",
    "from tokenizers import Tokenizer\n",
    "from datasets import load_dataset\n",
    "import json\n",
    "import time\n",
    "from tqdm import tqdm"
   ]
  },
  {
   "cell_type": "code",
   "execution_count": 2,
   "metadata": {},
   "outputs": [],
   "source": [
    "# TODO also handle s, es, ed, ing\n",
    "# TODO remove scaffolding tokens 10%@50k 10%@25k?"
   ]
  },
  {
   "cell_type": "code",
   "execution_count": 40,
   "metadata": {},
   "outputs": [
    {
     "name": "stdout",
     "output_type": "stream",
     "text": [
      "The quick brown Fox jumps 1234 OVER the lazy Dog.\n",
      "[1029, 14478, 3922, 6483, 19190, 332, 32402, 80, 319, 345, 28560, 1030, 27862, 356, 8403, 56]\n",
      "['The', 'Ġquick', 'Ġbrown', 'ĠFox', 'Ġjump', 's', 'Ġ123', '4', 'ĠO', 'V', 'ER', 'Ġthe', 'Ġlaz', 'y', 'ĠDog', '.']\n",
      "The quick brown Fox jumps 1234 OVER the lazy Dog.\n"
     ]
    }
   ],
   "source": [
    "# with open('tokenizers/tokenizer-space.json', 'r', encoding='utf-8') as f: tokenizer_config = json.load(f)[\"model\"][\"vocab\"]\n",
    "with open('tokenizers/tokenizer-space-20k-rs.json', 'r', encoding='utf-8') as f: tokenizer_config = json.load(f)\n",
    "vocab_size = 10000 + 257\n",
    "tokenizer = SpaceTokenizer(tokenizer_config, vocab_size)\n",
    "\n",
    "text = \"The quick brown Fox jumps 1234 OVER the lazy Dog.\"\n",
    "ids, tokens = tokenizer.encode(text, return_token_tuple=True)\n",
    "decoded = tokenizer.decode(ids)\n",
    "\n",
    "print(text)\n",
    "print(ids)\n",
    "print(tokens)\n",
    "print(decoded)"
   ]
  },
  {
   "cell_type": "code",
   "execution_count": 13,
   "metadata": {},
   "outputs": [
    {
     "data": {
      "text/plain": [
       "[(1, '<|endoftext|>'),\n",
       " (3, 'Ġ<|endoftext|>'),\n",
       " (0, '<|endoftext|>'),\n",
       " (2, 'Ġ<|endoftext|>'),\n",
       " (5, '!'),\n",
       " (7, 'Ġ!'),\n",
       " (4, '!'),\n",
       " (6, 'Ġ!'),\n",
       " (9, '\"'),\n",
       " (11, 'Ġ\"'),\n",
       " (8, '\"'),\n",
       " (10, 'Ġ\"'),\n",
       " (13, '#'),\n",
       " (15, 'Ġ#'),\n",
       " (12, '#'),\n",
       " (14, 'Ġ#')]"
      ]
     },
     "execution_count": 13,
     "metadata": {},
     "output_type": "execute_result"
    }
   ],
   "source": [
    "list(tokenizer.vocab_decode.items())[0:16]"
   ]
  },
  {
   "cell_type": "code",
   "execution_count": 15,
   "metadata": {},
   "outputs": [
    {
     "name": "stdout",
     "output_type": "stream",
     "text": [
      "Decode time: 0.10392170000022816\n",
      "53560\n",
      "True\n"
     ]
    }
   ],
   "source": [
    "with open('tokenizers/taylorswift.txt', 'r') as file:\n",
    "    content = file.read()\n",
    "\n",
    "t0 = time.perf_counter()\n",
    "ids, tokens = tokenizer.encode(content, return_token_tuple=True)\n",
    "print(\"Decode time:\", time.perf_counter() - t0)\n",
    "\n",
    "decoded = tokenizer.decode(ids)\n",
    "token_count = len(ids)\n",
    "\n",
    "print(token_count)\n",
    "print(content == decoded)"
   ]
  },
  {
   "cell_type": "code",
   "execution_count": 17,
   "metadata": {},
   "outputs": [
    {
     "name": "stdout",
     "output_type": "stream",
     "text": [
      "Decode time: 0.11724080000021786\n",
      "Space: 53560 GPT2: 60454 Ratio: 0.885962880868098\n"
     ]
    }
   ],
   "source": [
    "tokenizer_gpt = Tokenizer.from_file(\"tokenizers/tokenizer-ref-20k.json\")\n",
    "\n",
    "t0 = time.perf_counter()\n",
    "output_gpt = tokenizer_gpt.encode(content)\n",
    "print(\"Decode time:\", time.perf_counter() - t0)\n",
    "gpt_token_count = len(output_gpt.ids)\n",
    "\n",
    "print(\"Space:\", token_count, \"GPT2:\", gpt_token_count, \"Ratio:\", token_count / gpt_token_count)"
   ]
  },
  {
   "cell_type": "code",
   "execution_count": 18,
   "metadata": {},
   "outputs": [],
   "source": [
    "dataset = load_dataset(\"wikitext\", \"wikitext-103-raw-v1\", split=\"test+validation\") # split=\"train+test+validation\"\n",
    "\n",
    "def batch_iterator(batch_size=1000):\n",
    "    for i in range(0, len(dataset), batch_size):\n",
    "        yield dataset[i : i + batch_size][\"text\"]"
   ]
  },
  {
   "cell_type": "code",
   "execution_count": 22,
   "metadata": {},
   "outputs": [
    {
     "name": "stderr",
     "output_type": "stream",
     "text": [
      "9it [00:01,  5.97it/s]                           \n"
     ]
    }
   ],
   "source": [
    "token_count_gpt = 0\n",
    "for batch in tqdm(batch_iterator(), total=len(dataset) / 1000):\n",
    "    output = tokenizer_gpt.encode(\" \".join(batch))\n",
    "    token_count_gpt += len(output.ids)"
   ]
  },
  {
   "cell_type": "code",
   "execution_count": 41,
   "metadata": {},
   "outputs": [
    {
     "name": "stderr",
     "output_type": "stream",
     "text": [
      "9it [00:01,  7.39it/s]                           "
     ]
    },
    {
     "name": "stdout",
     "output_type": "stream",
     "text": [
      "Token count 546410 545681 1.0013359453600181\n"
     ]
    },
    {
     "name": "stderr",
     "output_type": "stream",
     "text": [
      "\n"
     ]
    }
   ],
   "source": [
    "token_count = 0\n",
    "ids = []\n",
    "for batch in tqdm(batch_iterator(), total=len(dataset) / 1000):\n",
    "    token_ids, tokens = tokenizer.encode(\" \".join(batch), return_token_tuple=True)\n",
    "    ids.extend(token_ids)\n",
    "    token_count += len(token_ids)\n",
    "\n",
    "# 30000: 1.003, 32000: 0.9997 35000: 0.9949, 37500: 0.991\n",
    "# 25k: 0.9999\n",
    "# After scaffold-removal-5%: 23.5k: 0.9982, 23k: 0.9993, 22.5k: 1.00075\n",
    "print(\"Token count\", token_count, token_count_gpt, token_count / token_count_gpt)"
   ]
  },
  {
   "cell_type": "markdown",
   "metadata": {},
   "source": [
    "### Train tokenizer"
   ]
  },
  {
   "cell_type": "code",
   "execution_count": 9,
   "metadata": {},
   "outputs": [],
   "source": [
    "from tokenizer import bytes_to_unicode\n",
    "from tokenizers import Tokenizer, pre_tokenizers, processors, decoders, models, trainers\n",
    "\n",
    "special_tokens = [\"<|endoftext|>\", *bytes_to_unicode().values()]\n",
    "\n",
    "tokenizer = Tokenizer(models.BPE())\n",
    "trainer = trainers.BpeTrainer(vocab_size=20257, min_frequency=0, special_tokens=special_tokens, show_progress=True)\n",
    "tokenizer.pre_tokenizer = pre_tokenizers.ByteLevel(add_prefix_space=False)\n",
    "tokenizer.post_processor = processors.ByteLevel()\n",
    "tokenizer.decoder = decoders.ByteLevel()\n",
    "\n",
    "tokenizer.train([\"tokenizers/wikitext.txt\"], trainer)\n",
    "\n",
    "tokenizer.save(\"tokenizers/tokenizer-ref-20k.json\")"
   ]
  },
  {
   "cell_type": "code",
   "execution_count": 10,
   "metadata": {},
   "outputs": [],
   "source": [
    "with open(\"tokenizers/tokenizer-ref-20k.json\", 'r', encoding='utf-8') as f:\n",
    "    data = json.load(f)\n",
    "data[\"added_tokens\"] = [data[\"added_tokens\"][0]]\n",
    "with open(\"tokenizers/tokenizer-ref-20k.json\", 'w', encoding='utf-8') as f:\n",
    "    json.dump(data, f, ensure_ascii=False, indent=4)"
   ]
  },
  {
   "cell_type": "code",
   "execution_count": 5,
   "metadata": {},
   "outputs": [],
   "source": [
    "# Downgrade huggingface tokenizer config, config is created from main branch of tokenizers\n",
    "\n",
    "with open(\"tokenizers/tokenizer-ref-20k-latest.json\", 'r', encoding='utf-8') as f:\n",
    "    data = json.load(f)\n",
    "\n",
    "data[\"model\"][\"merges\"] = list(map(lambda merge: f\"{merge[0]} {merge[1]}\", data[\"model\"][\"merges\"]))\n",
    "\n",
    "with open(\"tokenizers/tokenizer-ref-20k.json\", 'w', encoding='utf-8') as f:\n",
    "    json.dump(data, f, ensure_ascii=False, indent=4)"
   ]
  }
 ],
 "metadata": {
  "kernelspec": {
   "display_name": "Python 3",
   "language": "python",
   "name": "python3"
  },
  "language_info": {
   "codemirror_mode": {
    "name": "ipython",
    "version": 3
   },
   "file_extension": ".py",
   "mimetype": "text/x-python",
   "name": "python",
   "nbconvert_exporter": "python",
   "pygments_lexer": "ipython3",
   "version": "3.10.5"
  }
 },
 "nbformat": 4,
 "nbformat_minor": 2
}
